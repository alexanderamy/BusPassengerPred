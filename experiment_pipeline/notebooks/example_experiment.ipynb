{
 "cells": [
  {
   "cell_type": "code",
   "execution_count": 1,
   "metadata": {},
   "outputs": [],
   "source": [
    "## Setup\n",
    "from notebook_utils import resolve_paths_from_parent_directory\n",
    "# auto reload notebook deps\n",
    "%reload_ext autoreload\n",
    "%autoreload 2\n",
    "resolve_paths_from_parent_directory()"
   ]
  },
  {
   "cell_type": "code",
   "execution_count": 7,
   "metadata": {},
   "outputs": [],
   "source": [
    "import pandas as pd\n",
    "\n",
    "def custom_feature_set_without_trip_id(dataset):\n",
    "    train, test = dataset\n",
    "    train = pd.get_dummies(train, columns=['route'])\n",
    "\n",
    "    # compute average passenger_count by next_stop_id (using training only so as not to bake in information about the test set)\n",
    "    train_stop_stats = train[\n",
    "        ['next_stop_id', 'passenger_count']\n",
    "    ].groupby('next_stop_id').agg({'passenger_count':['mean', 'std']})\n",
    "    train['avg_stop_passengers'] = train['next_stop_id'].apply(lambda x: train_stop_stats[('passenger_count', 'mean')].loc[x])\n",
    "    test['avg_stop_passengers'] = test['next_stop_id'].apply(lambda x: train_stop_stats[('passenger_count', 'mean')].loc[x])\n",
    "\n",
    "    test = pd.get_dummies(test, columns=['route'])\n",
    "\n",
    "    non_features =  ['service_date', 'vehicle_id', 'trip_id', 'timestamp', 'prior_stop_id', 'next_stop_id']\n",
    "\n",
    "    return train.drop(columns=non_features), test.drop(columns=non_features)"
   ]
  },
  {
   "cell_type": "code",
   "execution_count": 8,
   "metadata": {},
   "outputs": [
    {
     "name": "stdout",
     "output_type": "stream",
     "text": [
      "Running experiment for LassoCV()...\n",
      "Selecting features...\n",
      "fitting on train data until 2021-09-27 00:00:00-04:00: 220,788 rows\n",
      "testing from 2021-09-27 00:00:00-04:00 to 2021-09-28 00:00:00-04:00: 2,894 rows\n",
      "Fitting model...\n",
      "Inference..\n",
      "Evaluation\n",
      "Performance: Model Prediction\n",
      "MAE: 5.8\n",
      "ME : 84.3\n",
      "R^2: 0.31\n",
      "\n",
      "\n",
      "Performance: Mean Prediction\n",
      "MAE: 7.2\n",
      "ME : 79.5\n",
      "R^2: 0.00\n",
      "None\n",
      "Running experiment for XGBRegressor(base_score=None, booster=None, colsample_bylevel=None,\n",
      "             colsample_bynode=None, colsample_bytree=None,\n",
      "             enable_categorical=False, gamma=None, gpu_id=None,\n",
      "             importance_type=None, interaction_constraints=None,\n",
      "             learning_rate=None, max_delta_step=None, max_depth=None,\n",
      "             min_child_weight=None, missing=nan, monotone_constraints=None,\n",
      "             n_estimators=100, n_jobs=None, num_parallel_tree=None,\n",
      "             predictor=None, random_state=None, reg_alpha=None, reg_lambda=None,\n",
      "             scale_pos_weight=None, subsample=None, tree_method=None,\n",
      "             validate_parameters=None, verbosity=None)...\n",
      "Selecting features...\n",
      "fitting on train data until 2021-09-27 00:00:00-04:00: 220,788 rows\n",
      "testing from 2021-09-27 00:00:00-04:00 to 2021-09-28 00:00:00-04:00: 2,894 rows\n"
     ]
    },
    {
     "name": "stderr",
     "output_type": "stream",
     "text": [
      "/usr/local/anaconda3/envs/bus-prediction/lib/python3.8/site-packages/sklearn/base.py:488: FutureWarning: The feature names should match those that were passed during fit. Starting version 1.2, an error will be raised.\n",
      "Feature names must be in the same order as they were in fit.\n",
      "\n",
      "  warnings.warn(message, FutureWarning)\n"
     ]
    },
    {
     "name": "stdout",
     "output_type": "stream",
     "text": [
      "Fitting model...\n",
      "Inference..\n",
      "Evaluation\n",
      "Performance: Model Prediction\n",
      "MAE: 5.0\n",
      "ME : 74.3\n",
      "R^2: 0.47\n",
      "\n",
      "\n",
      "Performance: Mean Prediction\n",
      "MAE: 7.2\n",
      "ME : 79.5\n",
      "R^2: 0.00\n",
      "None\n"
     ]
    }
   ],
   "source": [
    "from data_loader import load_global_feature_set\n",
    "from run_experiment import run_experiment\n",
    "from feature_sets import feature_set_without_trip_id\n",
    "from xgboost import XGBRegressor\n",
    "from sklearn.linear_model import LassoCV\n",
    "\n",
    "data_dir = \"../../data\"\n",
    "route_str = \"B46\"\n",
    "\n",
    "## Prepare globlal feature set\n",
    "df_route, stop_dict = load_global_feature_set(data_dir, route_str)\n",
    "\n",
    "for model in [LassoCV(), XGBRegressor()]:\n",
    "    print(f\"Running experiment for {model}...\")\n",
    "    experiment_eval = run_experiment(\n",
    "        df_route,\n",
    "        custom_feature_set_without_trip_id,\n",
    "        model,\n",
    "        stop_dict,\n",
    "        test_period=\"24H\"\n",
    "    )\n",
    "\n",
    "    print(\"Train evaluation\")\n",
    "    print(experiment_eval.basic_eval('train'))\n",
    "\n",
    "    print(\"Test evaluation\")\n",
    "    print(experiment_eval.basic_eval('test'))\n"
   ]
  }
 ],
 "metadata": {
  "interpreter": {
   "hash": "fe181c17152021195bf6b0c48874f6d40ad5617ed3cd6715741f061e749c707c"
  },
  "kernelspec": {
   "display_name": "Python 3.8.12 64-bit ('bus-prediction': conda)",
   "name": "python3"
  },
  "language_info": {
   "codemirror_mode": {
    "name": "ipython",
    "version": 3
   },
   "file_extension": ".py",
   "mimetype": "text/x-python",
   "name": "python",
   "nbconvert_exporter": "python",
   "pygments_lexer": "ipython3",
   "version": "3.8.12"
  },
  "orig_nbformat": 4
 },
 "nbformat": 4,
 "nbformat_minor": 2
}
